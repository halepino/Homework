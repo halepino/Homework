{
 "cells": [
  {
   "cell_type": "markdown",
   "id": "70761558",
   "metadata": {},
   "source": [
    "# DSC530 Week 4 Exercises for Chap 3 & 4\n",
    "  \n",
    "## Figueroa, Holly"
   ]
  },
  {
   "cell_type": "markdown",
   "id": "b25870ef",
   "metadata": {},
   "source": [
    "**Chapter 3 Exercise 3-1 (pg.35)**"
   ]
  },
  {
   "cell_type": "code",
   "execution_count": 1,
   "id": "d9028c2f",
   "metadata": {},
   "outputs": [],
   "source": [
    "from __future__ import print_function, division\n",
    "\n",
    "%matplotlib inline\n",
    "\n",
    "import numpy as np\n",
    "\n",
    "import nsfg\n",
    "import first\n",
    "import thinkstats2\n",
    "import thinkplot"
   ]
  },
  {
   "cell_type": "code",
   "execution_count": 2,
   "id": "cfad27ea",
   "metadata": {},
   "outputs": [],
   "source": [
    "#Read file\n",
    "resp = nsfg.ReadFemResp()"
   ]
  },
  {
   "cell_type": "code",
   "execution_count": 3,
   "id": "abe51e8b",
   "metadata": {},
   "outputs": [],
   "source": [
    "#Create pmf\n",
    "pmf = thinkstats2.Pmf(resp.numkdhh, label='reported')"
   ]
  },
  {
   "cell_type": "code",
   "execution_count": 4,
   "id": "9c532082",
   "metadata": {},
   "outputs": [
    {
     "data": {
      "image/png": "[encoded data removed]",
      "text/plain": [
       "<Figure size 432x288 with 1 Axes>"
      ]
     },
     "metadata": {
      "needs_background": "light"
     },
     "output_type": "display_data"
    },
    {
     "data": {
      "text/plain": [
       "<Figure size 576x432 with 0 Axes>"
      ]
     },
     "metadata": {},
     "output_type": "display_data"
    }
   ],
   "source": [
    "#Plot PMF of houshold sizes reported\n",
    "thinkplot.Pmf(pmf)\n",
    "thinkplot.Show(xlabel= 'Houshold Size', ylabel = 'PMF')"
   ]
  },
  {
   "cell_type": "code",
   "execution_count": 5,
   "id": "368d94f5",
   "metadata": {},
   "outputs": [],
   "source": [
    "#Function to create a biased PMF\n",
    "def BiasPmf(pmf, label):\n",
    "    new_pmf = pmf.Copy(label=label)\n",
    "\n",
    "    for x, p in pmf.Items():\n",
    "        new_pmf.Mult(x, x)\n",
    "        \n",
    "    new_pmf.Normalize()\n",
    "    return new_pmf"
   ]
  },
  {
   "cell_type": "code",
   "execution_count": 6,
   "id": "dab858c5",
   "metadata": {},
   "outputs": [],
   "source": [
    "#Create biased PMF of houshold size data\n",
    "bias_pmf = BiasPmf(pmf, label='biased pmf')"
   ]
  },
  {
   "cell_type": "code",
   "execution_count": 7,
   "id": "010e5dbb",
   "metadata": {},
   "outputs": [
    {
     "data": {
      "image/png": "[encoded data removed]",
      "text/plain": [
       "<Figure size 432x288 with 1 Axes>"
      ]
     },
     "metadata": {
      "needs_background": "light"
     },
     "output_type": "display_data"
    },
    {
     "data": {
      "text/plain": [
       "<Figure size 576x432 with 0 Axes>"
      ]
     },
     "metadata": {},
     "output_type": "display_data"
    }
   ],
   "source": [
    "#Compare PMFS\n",
    "thinkplot.PrePlot(2)\n",
    "thinkplot.Pmfs([pmf, bias_pmf])\n",
    "thinkplot.Show(xlabel = 'Number Kids Per Houshold', ylabel = \"PMF\")"
   ]
  },
  {
   "cell_type": "code",
   "execution_count": 8,
   "id": "5fc0c8a4",
   "metadata": {},
   "outputs": [
    {
     "name": "stdout",
     "output_type": "stream",
     "text": [
      "NUMKDHH Actual Mean =  1.024205155043831 \n",
      "NUMKDHH Biased Mean =  2.403679100664282\n"
     ]
    }
   ],
   "source": [
    "#Get means for both PMFs\n",
    "print(\"NUMKDHH Actual Mean = \" , pmf.Mean(),\"\\nNUMKDHH Biased Mean = \" , bias_pmf.Mean())"
   ]
  },
  {
   "cell_type": "markdown",
   "id": "0993c927",
   "metadata": {},
   "source": [
    "**Chapter 3 Exercise 3-2 (pg.36)**"
   ]
  },
  {
   "cell_type": "code",
   "execution_count": 9,
   "id": "c5838402",
   "metadata": {},
   "outputs": [
    {
     "data": {
      "text/plain": [
       "1.024205155043831"
      ]
     },
     "execution_count": 9,
     "metadata": {},
     "output_type": "execute_result"
    }
   ],
   "source": [
    "#Create function to compute pmf mean and check output\n",
    "def PmfMean(pmf):\n",
    "    return sum(p * x for x, p in pmf.Items())        \n",
    "        \n",
    "PmfMean(pmf)"
   ]
  },
  {
   "cell_type": "code",
   "execution_count": 10,
   "id": "25cd5409",
   "metadata": {},
   "outputs": [
    {
     "data": {
      "text/plain": [
       "1.024205155043831"
      ]
     },
     "execution_count": 10,
     "metadata": {},
     "output_type": "execute_result"
    }
   ],
   "source": [
    "pmf.Mean()"
   ]
  },
  {
   "cell_type": "code",
   "execution_count": 11,
   "id": "0647115f",
   "metadata": {},
   "outputs": [
    {
     "data": {
      "text/plain": [
       "1.4128643263531195"
      ]
     },
     "execution_count": 11,
     "metadata": {},
     "output_type": "execute_result"
    }
   ],
   "source": [
    "#Create function to compute PMF variance and check output\n",
    "def PmfVar(pmf):\n",
    "    mu = PmfMean(pmf)\n",
    "    return sum(p * (x-mu)** 2 for x, p in pmf.Items())\n",
    "\n",
    "PmfVar(pmf)"
   ]
  },
  {
   "cell_type": "code",
   "execution_count": 12,
   "id": "b45e6d25",
   "metadata": {},
   "outputs": [
    {
     "data": {
      "text/plain": [
       "1.4128643263531195"
      ]
     },
     "execution_count": 12,
     "metadata": {},
     "output_type": "execute_result"
    }
   ],
   "source": [
    "pmf.Var()"
   ]
  },
  {
   "cell_type": "markdown",
   "id": "0aea3778",
   "metadata": {},
   "source": [
    "**Chapter 4 Exercise 4-1 (pg.47)**"
   ]
  },
  {
   "cell_type": "code",
   "execution_count": 13,
   "id": "0e245edb",
   "metadata": {},
   "outputs": [],
   "source": [
    "#Read Preg File\n",
    "preg = nsfg.ReadFemPreg()\n",
    "live = preg[preg.outcome == 1]\n",
    "others = live[live.birthord != 1]"
   ]
  },
  {
   "cell_type": "code",
   "execution_count": 14,
   "id": "a3d050cf",
   "metadata": {},
   "outputs": [],
   "source": [
    "#Create CDF of birth weights using \"others\" only since I am not first born\n",
    "cdf = thinkstats2.Cdf(others.totalwgt_lb, label = \"totalwgt_lb\")"
   ]
  },
  {
   "cell_type": "code",
   "execution_count": 15,
   "id": "7c4a512f",
   "metadata": {},
   "outputs": [
    {
     "data": {
      "text/plain": [
       "5.7967914438502675"
      ]
     },
     "execution_count": 15,
     "metadata": {},
     "output_type": "execute_result"
    }
   ],
   "source": [
    "#Find percentile rank of my birth weight\n",
    "cdf.PercentileRank(5.15)"
   ]
  },
  {
   "cell_type": "markdown",
   "id": "ce8dfc5d",
   "metadata": {},
   "source": [
    "**Chapter 4 Exercise 4-2 (pg.48)**"
   ]
  },
  {
   "cell_type": "code",
   "execution_count": 16,
   "id": "356a522e",
   "metadata": {},
   "outputs": [],
   "source": [
    "#Create random sample 1000\n",
    "sample = np.random.random(1000)"
   ]
  },
  {
   "cell_type": "code",
   "execution_count": 17,
   "id": "dbc6e7db",
   "metadata": {},
   "outputs": [
    {
     "data": {
      "image/png": "[encoded data removed]",
      "text/plain": [
       "<Figure size 432x288 with 1 Axes>"
      ]
     },
     "metadata": {
      "needs_background": "light"
     },
     "output_type": "display_data"
    }
   ],
   "source": [
    "# Create PMF and plot from sample\n",
    "pmf2 = thinkstats2.Pmf(sample)\n",
    "thinkplot.Pmf(pmf2, label = \" Random Numbers\")"
   ]
  },
  {
   "cell_type": "code",
   "execution_count": 18,
   "id": "55445cd4",
   "metadata": {},
   "outputs": [
    {
     "data": {
      "text/plain": [
       "{'xscale': 'linear', 'yscale': 'linear'}"
      ]
     },
     "execution_count": 18,
     "metadata": {},
     "output_type": "execute_result"
    },
    {
     "data": {
      "image/png": "[encoded data removed]",
      "text/plain": [
       "<Figure size 432x288 with 1 Axes>"
      ]
     },
     "metadata": {
      "needs_background": "light"
     },
     "output_type": "display_data"
    }
   ],
   "source": [
    "#Create CDF and plot from sample\n",
    "cdf2 = thinkstats2.Cdf(sample)\n",
    "thinkplot.Cdf(cdf2, label = \"randoms CDF\")"
   ]
  },
  {
   "cell_type": "markdown",
   "id": "981e06b5",
   "metadata": {},
   "source": [
    "The distributions of both the PMF and CDF appear very uniform. The CDF appears as a block demonstrating the consistency of values at the tenth place having a perfect 10% probability accross the range. If the sample was less, like 100 instead of 1000, there would be visible gaps. The CDF also shows a near-perfect diagnal line demonstrating no significant differences in the distribution of probabilities accross the range given. Again, if the sample was 100, I would expect to find more visible imperfections to this line."
   ]
  }
 ],
 "metadata": {
  "kernelspec": {
   "display_name": "Python 3",
   "language": "python",
   "name": "python3"
  },
  "language_info": {
   "codemirror_mode": {
    "name": "ipython",
    "version": 3
   },
   "file_extension": ".py",
   "mimetype": "text/x-python",
   "name": "python",
   "nbconvert_exporter": "python",
   "pygments_lexer": "ipython3",
   "version": "3.8.8"
  }
 },
 "nbformat": 4,
 "nbformat_minor": 5
}
