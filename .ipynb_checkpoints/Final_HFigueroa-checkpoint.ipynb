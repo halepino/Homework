{
 "cells": [
  {
   "cell_type": "markdown",
   "id": "444b75bf",
   "metadata": {},
   "source": [
    "# Extremism\n",
    "\n",
    "### Course: DSC 530  \n",
    "### Author: Figueroa, Holly  \n",
    "### Objective: EDA on variables from Skoczylis, Joshua, 2021, \"Extremism, Life Experiences and the Internet\" "
   ]
  },
  {
   "cell_type": "code",
   "execution_count": 4,
   "id": "c132c96a",
   "metadata": {},
   "outputs": [
    {
     "ename": "ModuleNotFoundError",
     "evalue": "No module named 'thinkstats2'",
     "output_type": "error",
     "traceback": [
      "\u001b[1;31m---------------------------------------------------------------------------\u001b[0m",
      "\u001b[1;31mModuleNotFoundError\u001b[0m                       Traceback (most recent call last)",
      "\u001b[1;32m<ipython-input-4-e95ff78e5c34>\u001b[0m in \u001b[0;36m<module>\u001b[1;34m\u001b[0m\n\u001b[0;32m      3\u001b[0m \u001b[1;32mimport\u001b[0m \u001b[0mnumpy\u001b[0m \u001b[1;32mas\u001b[0m \u001b[0mnp\u001b[0m\u001b[1;33m\u001b[0m\u001b[1;33m\u001b[0m\u001b[0m\n\u001b[0;32m      4\u001b[0m \u001b[1;33m\u001b[0m\u001b[0m\n\u001b[1;32m----> 5\u001b[1;33m \u001b[1;32mimport\u001b[0m \u001b[0mthinkstats2\u001b[0m\u001b[1;33m\u001b[0m\u001b[1;33m\u001b[0m\u001b[0m\n\u001b[0m\u001b[0;32m      6\u001b[0m \u001b[1;32mimport\u001b[0m \u001b[0mthinkplot\u001b[0m\u001b[1;33m\u001b[0m\u001b[1;33m\u001b[0m\u001b[0m\n",
      "\u001b[1;31mModuleNotFoundError\u001b[0m: No module named 'thinkstats2'"
     ]
    }
   ],
   "source": [
    "import pandas as pd\n",
    "import seaborn as sns\n",
    "import numpy as np\n",
    "\n",
    "import thinkstats2\n",
    "import thinkplot"
   ]
  },
  {
   "cell_type": "code",
   "execution_count": 5,
   "id": "50388d8b",
   "metadata": {
    "scrolled": false
   },
   "outputs": [],
   "source": [
    "#Read file into df\n",
    "complete_df = pd.read_csv('ExtremismDataset2.0.csv')\n",
    "complete_df = pd.DataFrame(complete_df)"
   ]
  },
  {
   "cell_type": "code",
   "execution_count": 6,
   "id": "fc0a8413",
   "metadata": {},
   "outputs": [],
   "source": [
    "# Choose columns to include\n",
    "select_df1 = complete_df.iloc[ : , 0:19]\n",
    "select_df2 = complete_df.iloc[ : , 370:380]"
   ]
  },
  {
   "cell_type": "code",
   "execution_count": 7,
   "id": "11a1f564",
   "metadata": {},
   "outputs": [
    {
     "data": {
      "text/plain": [
       "(2552, 2552, 2552)"
      ]
     },
     "execution_count": 7,
     "metadata": {},
     "output_type": "execute_result"
    }
   ],
   "source": [
    "#Check Row lengths match\n",
    "len(complete_df), len(select_df1), len(select_df2)"
   ]
  },
  {
   "cell_type": "code",
   "execution_count": 8,
   "id": "eccd4079",
   "metadata": {},
   "outputs": [
    {
     "data": {
      "text/plain": [
       "2552"
      ]
     },
     "execution_count": 8,
     "metadata": {},
     "output_type": "execute_result"
    }
   ],
   "source": [
    "#Join dfs of chosen columns & validate length\n",
    "combined_df = select_df1.join(select_df2)\n",
    "len(combined_df)"
   ]
  },
  {
   "cell_type": "code",
   "execution_count": 9,
   "id": "89c6f889",
   "metadata": {
    "scrolled": true
   },
   "outputs": [
    {
     "name": "stdout",
     "output_type": "stream",
     "text": [
      "0 Index\n",
      "1 Progress\n",
      "2 Age\n",
      "3 HouseoldIncome\n",
      "4 Household_Dependents\n",
      "5 Gender_2\n",
      "6 Gender\n",
      "7 UK_Resident\n",
      "8 Ethnicity\n",
      "9 Ethnicity_selfDefined\n",
      "10 Religious_Affilation\n",
      "11 Relationship_Status\n",
      "12 Socio-economic_Status\n",
      "13 Living_Arrangments\n",
      "14 Houseold_Debt_in_Thousand_of_£\n",
      "15 Highest_Qualification\n",
      "16 Occupation_Qualitative\n",
      "17 Postcode\n",
      "18 City\n",
      "19 SocialMedia_Use\n",
      "20 Extremism_ScorePCA\n",
      "21 Extermism_scoreScaled\n",
      "22 Strain_Resilience_score\n",
      "23 Strain_Score\n",
      "24 Resilience_score\n",
      "25 Confidence_inSelf\n",
      "26 Political_Engagment\n",
      "27 Political_LeaningRight_Left\n",
      "28 Racism_scale\n"
     ]
    }
   ],
   "source": [
    "for col in combined_df.columns:\n",
    "    index_no = combined_df.columns.get_loc(col)\n",
    "    print(index_no , col)"
   ]
  },
  {
   "cell_type": "code",
   "execution_count": 10,
   "id": "8e43edfb",
   "metadata": {},
   "outputs": [],
   "source": [
    "combined_df = combined_df.iloc[ :,[2,6,10,19,21,27,28]]\n"
   ]
  },
  {
   "cell_type": "code",
   "execution_count": 11,
   "id": "001518e8",
   "metadata": {},
   "outputs": [
    {
     "data": {
      "text/plain": [
       "2552"
      ]
     },
     "execution_count": 11,
     "metadata": {},
     "output_type": "execute_result"
    }
   ],
   "source": [
    "# Re-validate length\n",
    "len(combined_df)"
   ]
  },
  {
   "cell_type": "code",
   "execution_count": 12,
   "id": "56fddc60",
   "metadata": {
    "scrolled": true
   },
   "outputs": [
    {
     "name": "stdout",
     "output_type": "stream",
     "text": [
      "0 Age\n",
      "1 Gender\n",
      "2 Religious_Affilation\n",
      "3 SocialMedia_Use\n",
      "4 Extermism_scoreScaled\n",
      "5 Political_LeaningRight_Left\n",
      "6 Racism_scale\n"
     ]
    }
   ],
   "source": [
    "for col in combined_df.columns:\n",
    "    index_no = combined_df.columns.get_loc(col)\n",
    "    print(index_no , col)"
   ]
  },
  {
   "cell_type": "code",
   "execution_count": 13,
   "id": "9c6406e9",
   "metadata": {},
   "outputs": [
    {
     "data": {
      "text/html": [
       "<div>\n",
       "<style scoped>\n",
       "    .dataframe tbody tr th:only-of-type {\n",
       "        vertical-align: middle;\n",
       "    }\n",
       "\n",
       "    .dataframe tbody tr th {\n",
       "        vertical-align: top;\n",
       "    }\n",
       "\n",
       "    .dataframe thead th {\n",
       "        text-align: right;\n",
       "    }\n",
       "</style>\n",
       "<table border=\"1\" class=\"dataframe\">\n",
       "  <thead>\n",
       "    <tr style=\"text-align: right;\">\n",
       "      <th></th>\n",
       "      <th>Age</th>\n",
       "      <th>Gender</th>\n",
       "      <th>Religious_Affilation</th>\n",
       "      <th>SocialMedia_Use</th>\n",
       "      <th>Extermism_scoreScaled</th>\n",
       "      <th>Political_LeaningRight_Left</th>\n",
       "      <th>Racism_scale</th>\n",
       "    </tr>\n",
       "  </thead>\n",
       "  <tbody>\n",
       "    <tr>\n",
       "      <th>Age</th>\n",
       "      <td>1.000000</td>\n",
       "      <td>0.119521</td>\n",
       "      <td>-0.150121</td>\n",
       "      <td>-0.126497</td>\n",
       "      <td>-0.181523</td>\n",
       "      <td>-0.131424</td>\n",
       "      <td>0.013147</td>\n",
       "    </tr>\n",
       "    <tr>\n",
       "      <th>Gender</th>\n",
       "      <td>0.119521</td>\n",
       "      <td>1.000000</td>\n",
       "      <td>-0.018694</td>\n",
       "      <td>-0.035427</td>\n",
       "      <td>-0.215532</td>\n",
       "      <td>0.146910</td>\n",
       "      <td>0.131347</td>\n",
       "    </tr>\n",
       "    <tr>\n",
       "      <th>Religious_Affilation</th>\n",
       "      <td>-0.150121</td>\n",
       "      <td>-0.018694</td>\n",
       "      <td>1.000000</td>\n",
       "      <td>0.036402</td>\n",
       "      <td>0.047961</td>\n",
       "      <td>0.268064</td>\n",
       "      <td>0.197412</td>\n",
       "    </tr>\n",
       "    <tr>\n",
       "      <th>SocialMedia_Use</th>\n",
       "      <td>-0.126497</td>\n",
       "      <td>-0.035427</td>\n",
       "      <td>0.036402</td>\n",
       "      <td>1.000000</td>\n",
       "      <td>0.123187</td>\n",
       "      <td>0.082792</td>\n",
       "      <td>-0.004479</td>\n",
       "    </tr>\n",
       "    <tr>\n",
       "      <th>Extermism_scoreScaled</th>\n",
       "      <td>-0.181523</td>\n",
       "      <td>-0.215532</td>\n",
       "      <td>0.047961</td>\n",
       "      <td>0.123187</td>\n",
       "      <td>1.000000</td>\n",
       "      <td>-0.181616</td>\n",
       "      <td>-0.266799</td>\n",
       "    </tr>\n",
       "    <tr>\n",
       "      <th>Political_LeaningRight_Left</th>\n",
       "      <td>-0.131424</td>\n",
       "      <td>0.146910</td>\n",
       "      <td>0.268064</td>\n",
       "      <td>0.082792</td>\n",
       "      <td>-0.181616</td>\n",
       "      <td>1.000000</td>\n",
       "      <td>0.627832</td>\n",
       "    </tr>\n",
       "    <tr>\n",
       "      <th>Racism_scale</th>\n",
       "      <td>0.013147</td>\n",
       "      <td>0.131347</td>\n",
       "      <td>0.197412</td>\n",
       "      <td>-0.004479</td>\n",
       "      <td>-0.266799</td>\n",
       "      <td>0.627832</td>\n",
       "      <td>1.000000</td>\n",
       "    </tr>\n",
       "  </tbody>\n",
       "</table>\n",
       "</div>"
      ],
      "text/plain": [
       "                                  Age    Gender  Religious_Affilation  \\\n",
       "Age                          1.000000  0.119521             -0.150121   \n",
       "Gender                       0.119521  1.000000             -0.018694   \n",
       "Religious_Affilation        -0.150121 -0.018694              1.000000   \n",
       "SocialMedia_Use             -0.126497 -0.035427              0.036402   \n",
       "Extermism_scoreScaled       -0.181523 -0.215532              0.047961   \n",
       "Political_LeaningRight_Left -0.131424  0.146910              0.268064   \n",
       "Racism_scale                 0.013147  0.131347              0.197412   \n",
       "\n",
       "                             SocialMedia_Use  Extermism_scoreScaled  \\\n",
       "Age                                -0.126497              -0.181523   \n",
       "Gender                             -0.035427              -0.215532   \n",
       "Religious_Affilation                0.036402               0.047961   \n",
       "SocialMedia_Use                     1.000000               0.123187   \n",
       "Extermism_scoreScaled               0.123187               1.000000   \n",
       "Political_LeaningRight_Left         0.082792              -0.181616   \n",
       "Racism_scale                       -0.004479              -0.266799   \n",
       "\n",
       "                             Political_LeaningRight_Left  Racism_scale  \n",
       "Age                                            -0.131424      0.013147  \n",
       "Gender                                          0.146910      0.131347  \n",
       "Religious_Affilation                            0.268064      0.197412  \n",
       "SocialMedia_Use                                 0.082792     -0.004479  \n",
       "Extermism_scoreScaled                          -0.181616     -0.266799  \n",
       "Political_LeaningRight_Left                     1.000000      0.627832  \n",
       "Racism_scale                                    0.627832      1.000000  "
      ]
     },
     "execution_count": 13,
     "metadata": {},
     "output_type": "execute_result"
    }
   ],
   "source": [
    "combined_df.corr()"
   ]
  },
  {
   "cell_type": "markdown",
   "id": "272d06df",
   "metadata": {},
   "source": [
    "## Variable Summaries  "
   ]
  },
  {
   "cell_type": "code",
   "execution_count": 14,
   "id": "a97cbb89",
   "metadata": {},
   "outputs": [
    {
     "data": {
      "text/html": [
       "<div>\n",
       "<style scoped>\n",
       "    .dataframe tbody tr th:only-of-type {\n",
       "        vertical-align: middle;\n",
       "    }\n",
       "\n",
       "    .dataframe tbody tr th {\n",
       "        vertical-align: top;\n",
       "    }\n",
       "\n",
       "    .dataframe thead th {\n",
       "        text-align: right;\n",
       "    }\n",
       "</style>\n",
       "<table border=\"1\" class=\"dataframe\">\n",
       "  <thead>\n",
       "    <tr style=\"text-align: right;\">\n",
       "      <th></th>\n",
       "      <th>Age</th>\n",
       "      <th>Gender</th>\n",
       "      <th>Religious_Affilation</th>\n",
       "      <th>SocialMedia_Use</th>\n",
       "      <th>Extermism_scoreScaled</th>\n",
       "      <th>Political_LeaningRight_Left</th>\n",
       "      <th>Racism_scale</th>\n",
       "    </tr>\n",
       "  </thead>\n",
       "  <tbody>\n",
       "    <tr>\n",
       "      <th>count</th>\n",
       "      <td>1800.000000</td>\n",
       "      <td>2534.000000</td>\n",
       "      <td>2549.000000</td>\n",
       "      <td>2342.000000</td>\n",
       "      <td>2333.000000</td>\n",
       "      <td>2383.000000</td>\n",
       "      <td>2525.000000</td>\n",
       "    </tr>\n",
       "    <tr>\n",
       "      <th>mean</th>\n",
       "      <td>50.266111</td>\n",
       "      <td>0.340963</td>\n",
       "      <td>1.235779</td>\n",
       "      <td>-0.000580</td>\n",
       "      <td>0.806723</td>\n",
       "      <td>0.002441</td>\n",
       "      <td>0.001179</td>\n",
       "    </tr>\n",
       "    <tr>\n",
       "      <th>std</th>\n",
       "      <td>16.490797</td>\n",
       "      <td>0.474126</td>\n",
       "      <td>1.197410</td>\n",
       "      <td>1.002803</td>\n",
       "      <td>1.402327</td>\n",
       "      <td>0.998769</td>\n",
       "      <td>0.998958</td>\n",
       "    </tr>\n",
       "    <tr>\n",
       "      <th>min</th>\n",
       "      <td>5.000000</td>\n",
       "      <td>0.000000</td>\n",
       "      <td>0.000000</td>\n",
       "      <td>-1.402474</td>\n",
       "      <td>0.000000</td>\n",
       "      <td>-2.821735</td>\n",
       "      <td>-3.314837</td>\n",
       "    </tr>\n",
       "    <tr>\n",
       "      <th>25%</th>\n",
       "      <td>38.000000</td>\n",
       "      <td>0.000000</td>\n",
       "      <td>0.000000</td>\n",
       "      <td>-0.688714</td>\n",
       "      <td>0.000000</td>\n",
       "      <td>-0.786440</td>\n",
       "      <td>-0.532733</td>\n",
       "    </tr>\n",
       "    <tr>\n",
       "      <th>50%</th>\n",
       "      <td>55.000000</td>\n",
       "      <td>0.000000</td>\n",
       "      <td>2.000000</td>\n",
       "      <td>-0.212874</td>\n",
       "      <td>0.000000</td>\n",
       "      <td>0.098471</td>\n",
       "      <td>0.262154</td>\n",
       "    </tr>\n",
       "    <tr>\n",
       "      <th>75%</th>\n",
       "      <td>63.000000</td>\n",
       "      <td>1.000000</td>\n",
       "      <td>2.000000</td>\n",
       "      <td>0.500885</td>\n",
       "      <td>1.023645</td>\n",
       "      <td>0.806400</td>\n",
       "      <td>0.659597</td>\n",
       "    </tr>\n",
       "    <tr>\n",
       "      <th>max</th>\n",
       "      <td>85.000000</td>\n",
       "      <td>1.000000</td>\n",
       "      <td>5.000000</td>\n",
       "      <td>7.103162</td>\n",
       "      <td>9.000000</td>\n",
       "      <td>2.310748</td>\n",
       "      <td>1.057040</td>\n",
       "    </tr>\n",
       "  </tbody>\n",
       "</table>\n",
       "</div>"
      ],
      "text/plain": [
       "               Age       Gender  Religious_Affilation  SocialMedia_Use  \\\n",
       "count  1800.000000  2534.000000           2549.000000      2342.000000   \n",
       "mean     50.266111     0.340963              1.235779        -0.000580   \n",
       "std      16.490797     0.474126              1.197410         1.002803   \n",
       "min       5.000000     0.000000              0.000000        -1.402474   \n",
       "25%      38.000000     0.000000              0.000000        -0.688714   \n",
       "50%      55.000000     0.000000              2.000000        -0.212874   \n",
       "75%      63.000000     1.000000              2.000000         0.500885   \n",
       "max      85.000000     1.000000              5.000000         7.103162   \n",
       "\n",
       "       Extermism_scoreScaled  Political_LeaningRight_Left  Racism_scale  \n",
       "count            2333.000000                  2383.000000   2525.000000  \n",
       "mean                0.806723                     0.002441      0.001179  \n",
       "std                 1.402327                     0.998769      0.998958  \n",
       "min                 0.000000                    -2.821735     -3.314837  \n",
       "25%                 0.000000                    -0.786440     -0.532733  \n",
       "50%                 0.000000                     0.098471      0.262154  \n",
       "75%                 1.023645                     0.806400      0.659597  \n",
       "max                 9.000000                     2.310748      1.057040  "
      ]
     },
     "execution_count": 14,
     "metadata": {},
     "output_type": "execute_result"
    }
   ],
   "source": [
    "combined_df.describe()"
   ]
  },
  {
   "cell_type": "markdown",
   "id": "1e2cfea2",
   "metadata": {},
   "source": [
    "## Histograms, Cleaning/Explain Outliers Handling, Mean, Mode, Spread, and Tails"
   ]
  },
  {
   "cell_type": "markdown",
   "id": "c5c49a4f",
   "metadata": {},
   "source": [
    "### Age  Summary\n",
    "The histogram for age shows a negatively skewed, bi-modal distribution where a greater proprotion of participants were aged under 25, and and even greater proportion aged between 50 and 70 years old. An outlier for AGE appears to have a respondent at age 5, but source documents state only those 16 or older we're allowed to participate. Will adjust code to include ages 16 or older. \n",
    "\n",
    "* Continuous variable\n",
    "* Bimodal\n",
    "* Moderate negative skew (-0.53)\n",
    "* Mean age 50\n",
    "* Age range 16-85 years old\n",
    "* One outlier - 5yr old participant - likely a typo (removed)\n"
   ]
  },
  {
   "cell_type": "code",
   "execution_count": 15,
   "id": "5bbedea8",
   "metadata": {},
   "outputs": [
    {
     "data": {
      "text/plain": [
       "<AxesSubplot:xlabel='Age', ylabel='Count'>"
      ]
     },
     "execution_count": 15,
     "metadata": {},
     "output_type": "execute_result"
    },
    {
     "data": {
      "image/png": "[encoded data removed]",
      "text/plain": [
       "<Figure size 432x288 with 1 Axes>"
      ]
     },
     "metadata": {
      "needs_background": "light"
     },
     "output_type": "display_data"
    }
   ],
   "source": [
    "# Create histogram\n",
    "sns.histplot(data=combined_df, x= combined_df['Age'], bins =20)"
   ]
  },
  {
   "cell_type": "code",
   "execution_count": 16,
   "id": "7c720aec",
   "metadata": {},
   "outputs": [
    {
     "data": {
      "text/plain": [
       "<AxesSubplot:xlabel='Age', ylabel='Count'>"
      ]
     },
     "execution_count": 16,
     "metadata": {},
     "output_type": "execute_result"
    },
    {
     "data": {
      "image/png": "[encoded data removed]",
      "text/plain": [
       "<Figure size 432x288 with 1 Axes>"
      ]
     },
     "metadata": {
      "needs_background": "light"
     },
     "output_type": "display_data"
    }
   ],
   "source": [
    "# Remove what appear to be age value errors - ages under 16\n",
    "combined_df = combined_df[combined_df.Age > 15]\n",
    "sns.histplot(data=combined_df, x= combined_df['Age'], bins = 20)"
   ]
  },
  {
   "cell_type": "code",
   "execution_count": 17,
   "id": "bf3bbff1",
   "metadata": {},
   "outputs": [
    {
     "data": {
      "text/plain": [
       "count    1799.000000\n",
       "mean       50.291273\n",
       "std        16.460783\n",
       "min        16.000000\n",
       "25%        38.500000\n",
       "50%        55.000000\n",
       "75%        63.000000\n",
       "max        85.000000\n",
       "Name: Age, dtype: float64"
      ]
     },
     "execution_count": 17,
     "metadata": {},
     "output_type": "execute_result"
    }
   ],
   "source": [
    "# Get Central Measures for Age\n",
    "age = combined_df['Age']\n",
    "\n",
    "age.describe()"
   ]
  },
  {
   "cell_type": "code",
   "execution_count": 23,
   "id": "5fb0717a",
   "metadata": {},
   "outputs": [
    {
     "data": {
      "text/plain": [
       "0    57.0\n",
       "dtype: float64"
      ]
     },
     "execution_count": 23,
     "metadata": {},
     "output_type": "execute_result"
    }
   ],
   "source": [
    "age.mode()"
   ]
  },
  {
   "cell_type": "code",
   "execution_count": 24,
   "id": "16bde44d",
   "metadata": {},
   "outputs": [
    {
     "data": {
      "text/plain": [
       "-0.5398928968642979"
      ]
     },
     "execution_count": 24,
     "metadata": {},
     "output_type": "execute_result"
    }
   ],
   "source": [
    "age.skew()"
   ]
  },
  {
   "cell_type": "markdown",
   "id": "8af86774",
   "metadata": {},
   "source": [
    "### Gender Summary\n",
    "\n",
    "* Nominal variable coded 0-1 (male/female)\n",
    "* Almost 2x more male participants than female\n",
    "* 1784 total\n"
   ]
  },
  {
   "cell_type": "code",
   "execution_count": 25,
   "id": "106bf7d7",
   "metadata": {},
   "outputs": [
    {
     "data": {
      "text/plain": [
       "<AxesSubplot:>"
      ]
     },
     "execution_count": 25,
     "metadata": {},
     "output_type": "execute_result"
    },
    {
     "data": {
      "image/png": "[encoded data removed]",
      "text/plain": [
       "<Figure size 432x288 with 1 Axes>"
      ]
     },
     "metadata": {
      "needs_background": "light"
     },
     "output_type": "display_data"
    }
   ],
   "source": [
    "#Mak gender variable and make plot of counts\n",
    "gender = combined_df['Gender']\n",
    "\n",
    "gender.value_counts().plot(kind='bar')"
   ]
  },
  {
   "cell_type": "code",
   "execution_count": 26,
   "id": "152532bf",
   "metadata": {
    "scrolled": true
   },
   "outputs": [
    {
     "data": {
      "text/plain": [
       "0.0    1130\n",
       "1.0     654\n",
       "Name: Gender, dtype: int64"
      ]
     },
     "execution_count": 26,
     "metadata": {},
     "output_type": "execute_result"
    }
   ],
   "source": [
    "gender.value_counts()"
   ]
  },
  {
   "cell_type": "markdown",
   "id": "bf90e043",
   "metadata": {},
   "source": [
    "### Religious Affiliation Summary\n",
    "\n",
    "0 = Christian          (753)  \n",
    "1 = Buddhist           (9)  \n",
    "2 = I am not religious (964)  \n",
    "3 = Jewish             (17)  \n",
    "4 = Muslim             (8)  \n",
    "5 = Other              (47)  \n",
    "\n",
    "\n",
    "* Nominal variable\n",
    "* 2255 total responses\n",
    "* 76% responded either 'I am not religious' or 'Christian'\n",
    "* Mode response 'I am not religous\" \n",
    "* <50 count for all other responses"
   ]
  },
  {
   "cell_type": "code",
   "execution_count": 27,
   "id": "eb23b441",
   "metadata": {},
   "outputs": [
    {
     "name": "stdout",
     "output_type": "stream",
     "text": [
      "Index(['Age', 'Gender', 'Religious_Affilation', 'SocialMedia_Use',\n",
      "       'Extermism_scoreScaled', 'Political_LeaningRight_Left', 'Racism_scale'],\n",
      "      dtype='object')\n"
     ]
    }
   ],
   "source": [
    "#Check column spelling\n",
    "print(combined_df.columns)"
   ]
  },
  {
   "cell_type": "code",
   "execution_count": 28,
   "id": "e0e27459",
   "metadata": {},
   "outputs": [
    {
     "data": {
      "text/plain": [
       "<AxesSubplot:>"
      ]
     },
     "execution_count": 28,
     "metadata": {},
     "output_type": "execute_result"
    },
    {
     "data": {
      "image/png": "[encoded data removed]",
      "text/plain": [
       "<Figure size 432x288 with 1 Axes>"
      ]
     },
     "metadata": {
      "needs_background": "light"
     },
     "output_type": "display_data"
    }
   ],
   "source": [
    "# Plot Response Codes for Religious Affiliation\n",
    "combined_df['Religious_Affilation'].value_counts().plot(kind='bar')"
   ]
  },
  {
   "cell_type": "code",
   "execution_count": 29,
   "id": "7341f8d7",
   "metadata": {},
   "outputs": [
    {
     "data": {
      "text/plain": [
       "2.0    964\n",
       "0.0    753\n",
       "5.0     47\n",
       "3.0     17\n",
       "1.0      9\n",
       "4.0      8\n",
       "Name: Religious_Affilation, dtype: int64"
      ]
     },
     "execution_count": 29,
     "metadata": {},
     "output_type": "execute_result"
    }
   ],
   "source": [
    "# Value Counts for each response\n",
    "combined_df['Religious_Affilation'].value_counts()"
   ]
  },
  {
   "cell_type": "code",
   "execution_count": 30,
   "id": "486ba025",
   "metadata": {},
   "outputs": [
    {
     "data": {
      "text/plain": [
       "2255.0"
      ]
     },
     "execution_count": 30,
     "metadata": {},
     "output_type": "execute_result"
    }
   ],
   "source": [
    "# Get total\n",
    "combined_df['Religious_Affilation'].sum()"
   ]
  },
  {
   "cell_type": "code",
   "execution_count": 31,
   "id": "04750be9",
   "metadata": {},
   "outputs": [
    {
     "data": {
      "text/plain": [
       "76.14190687361419"
      ]
     },
     "execution_count": 31,
     "metadata": {},
     "output_type": "execute_result"
    }
   ],
   "source": [
    "# Get percentage that 2 highest responses take of the total\n",
    "(964+753)/2255 *100"
   ]
  },
  {
   "cell_type": "code",
   "execution_count": null,
   "id": "b175aa8b",
   "metadata": {},
   "outputs": [],
   "source": []
  },
  {
   "cell_type": "markdown",
   "id": "4b276165",
   "metadata": {},
   "source": [
    "### Social Media Use Score Summary\n",
    "Sum score based on likert survey results asking abotu social media use of a variety of platforms. Sum scores were then standardized. Lower values indicating no use or never using social media type. This distribution has a strong positive skew which was measured at 1.53. The sharp peak and long tail is also reflected in the high measure for kurtosis at 3.92, with strong leptokurtic shape with a long tail. The average of 0.02 suggests that majority of those interviewed either rarely or never used social media. A couple of outliers suggest a few used it extensively. These outliers will be kept in place, as these are unlikely to be in error. \n",
    "\n",
    "* Continuous variable ranging from 'never use' (low) to 'always use' (high)\n",
    "* High positive skew (1.53)\n",
    "* Leptokurtic (kurt = 3.92)\n",
    "* Range -1.4 to 7.1 \n",
    "* 75% of values are under 1\n",
    "* Mean 0.02\n",
    "* Median 0.21"
   ]
  },
  {
   "cell_type": "code",
   "execution_count": 32,
   "id": "32268ad3",
   "metadata": {},
   "outputs": [
    {
     "data": {
      "text/plain": [
       "<AxesSubplot:xlabel='SocialMedia_Use', ylabel='Count'>"
      ]
     },
     "execution_count": 32,
     "metadata": {},
     "output_type": "execute_result"
    },
    {
     "data": {
      "image/png": "[encoded data removed]",
      "text/plain": [
       "<Figure size 432x288 with 1 Axes>"
      ]
     },
     "metadata": {
      "needs_background": "light"
     },
     "output_type": "display_data"
    }
   ],
   "source": [
    "social = combined_df['SocialMedia_Use']\n",
    "\n",
    "# Create histogram\n",
    "sns.histplot(data=combined_df, x= social, bins =20)"
   ]
  },
  {
   "cell_type": "code",
   "execution_count": 33,
   "id": "3f0c1280",
   "metadata": {},
   "outputs": [
    {
     "data": {
      "text/plain": [
       "count    1658.000000\n",
       "mean        0.028812\n",
       "std         1.045180\n",
       "min        -1.402474\n",
       "25%        -0.688714\n",
       "50%        -0.212874\n",
       "75%         0.500885\n",
       "max         7.103162\n",
       "Name: SocialMedia_Use, dtype: float64"
      ]
     },
     "execution_count": 33,
     "metadata": {},
     "output_type": "execute_result"
    }
   ],
   "source": [
    "social.describe()"
   ]
  },
  {
   "cell_type": "code",
   "execution_count": 34,
   "id": "b356e0fe",
   "metadata": {},
   "outputs": [
    {
     "data": {
      "text/plain": [
       "-0.212874344"
      ]
     },
     "execution_count": 34,
     "metadata": {},
     "output_type": "execute_result"
    }
   ],
   "source": [
    "social.median()"
   ]
  },
  {
   "cell_type": "code",
   "execution_count": 37,
   "id": "52137c9c",
   "metadata": {},
   "outputs": [
    {
     "data": {
      "text/plain": [
       "(1.5256000489382344, 3.924979154504209)"
      ]
     },
     "execution_count": 37,
     "metadata": {},
     "output_type": "execute_result"
    }
   ],
   "source": [
    "social.skew(), social.kurt()"
   ]
  },
  {
   "cell_type": "markdown",
   "id": "62b0f85e",
   "metadata": {},
   "source": [
    "### Political Leanings Summary\n",
    "The distribution for political leanings appears bimodal, a feature that may be expected of a variable known to be \"polarized\". There are two peaks, or modes, the tallest around .07, then another around -1.0. There are no clear outliers.\n",
    "\n",
    "* Continuous varible ranging low (right of center) to high (left of center)\n",
    "* Bimodal distribution\n",
    "* Standardized scores based on likert responses regarding political views\n",
    "* Score range -2.82 to 2.31"
   ]
  },
  {
   "cell_type": "code",
   "execution_count": 43,
   "id": "63e0b246",
   "metadata": {},
   "outputs": [
    {
     "data": {
      "text/plain": [
       "<AxesSubplot:xlabel='Political_LeaningRight_Left', ylabel='Count'>"
      ]
     },
     "execution_count": 43,
     "metadata": {},
     "output_type": "execute_result"
    },
    {
     "data": {
      "image/png": "[encoded data removed]",
      "text/plain": [
       "<Figure size 432x288 with 1 Axes>"
      ]
     },
     "metadata": {
      "needs_background": "light"
     },
     "output_type": "display_data"
    }
   ],
   "source": [
    "politics = combined_df['Political_LeaningRight_Left']\n",
    "\n",
    "sns.histplot(data=combined_df, x= politics, bins =20)"
   ]
  },
  {
   "cell_type": "code",
   "execution_count": 40,
   "id": "3307cd68",
   "metadata": {},
   "outputs": [
    {
     "data": {
      "text/plain": [
       "count    1694.000000\n",
       "mean        0.045397\n",
       "std         0.995005\n",
       "min        -2.821735\n",
       "25%        -0.786440\n",
       "50%         0.098471\n",
       "75%         0.872768\n",
       "max         2.310748\n",
       "Name: Political_LeaningRight_Left, dtype: float64"
      ]
     },
     "execution_count": 40,
     "metadata": {},
     "output_type": "execute_result"
    }
   ],
   "source": [
    "politics.describe()"
   ]
  },
  {
   "cell_type": "code",
   "execution_count": 41,
   "id": "81301cf8",
   "metadata": {},
   "outputs": [
    {
     "data": {
      "text/plain": [
       "(0.09847074,\n",
       " 0    0.540926\n",
       " 1    0.629417\n",
       " 2    0.806400\n",
       " 3    0.894891\n",
       " dtype: float64)"
      ]
     },
     "execution_count": 41,
     "metadata": {},
     "output_type": "execute_result"
    }
   ],
   "source": [
    "politics.median(), politics.mode()"
   ]
  },
  {
   "cell_type": "code",
   "execution_count": null,
   "id": "51c3b7ad",
   "metadata": {},
   "outputs": [],
   "source": []
  },
  {
   "cell_type": "markdown",
   "id": "c487b370",
   "metadata": {},
   "source": [
    "### Racism Score Summary\n",
    "The distribution for racism scores borders at a high skew at 0.998. \n",
    "\n",
    "* Continuous\n",
    "* Scaled scores range from low values (high racism scores) to higher values (low racism scores)\n",
    "* Scores ranged from -3.31 to 1.06\n",
    "* Median score at 0.03, but the mode score was high (1.05)\n",
    "* Over 25% of scores were under zero"
   ]
  },
  {
   "cell_type": "code",
   "execution_count": 45,
   "id": "ab00c597",
   "metadata": {},
   "outputs": [
    {
     "data": {
      "text/plain": [
       "<AxesSubplot:xlabel='Racism_scale', ylabel='Count'>"
      ]
     },
     "execution_count": 45,
     "metadata": {},
     "output_type": "execute_result"
    },
    {
     "data": {
      "image/png": "[encoded data removed]",
      "text/plain": [
       "<Figure size 432x288 with 1 Axes>"
      ]
     },
     "metadata": {
      "needs_background": "light"
     },
     "output_type": "display_data"
    }
   ],
   "source": [
    "racism = combined_df['Racism_scale']\n",
    "sns.histplot(data=combined_df, x= racism, bins =20)"
   ]
  },
  {
   "cell_type": "code",
   "execution_count": 47,
   "id": "9f7835fd",
   "metadata": {},
   "outputs": [
    {
     "data": {
      "text/plain": [
       "count    1781.000000\n",
       "mean        0.035202\n",
       "std         0.998032\n",
       "min        -3.314837\n",
       "25%        -0.532733\n",
       "50%         0.262154\n",
       "75%         0.659597\n",
       "max         1.057040\n",
       "Name: Racism_scale, dtype: float64"
      ]
     },
     "execution_count": 47,
     "metadata": {},
     "output_type": "execute_result"
    }
   ],
   "source": [
    "racism.describe()"
   ]
  },
  {
   "cell_type": "code",
   "execution_count": 46,
   "id": "859ecf4e",
   "metadata": {},
   "outputs": [
    {
     "data": {
      "text/plain": [
       "(0.035202367250982754, 0.262153509)"
      ]
     },
     "execution_count": 46,
     "metadata": {},
     "output_type": "execute_result"
    }
   ],
   "source": [
    "racism.median()"
   ]
  },
  {
   "cell_type": "code",
   "execution_count": 49,
   "id": "5fef935b",
   "metadata": {},
   "outputs": [
    {
     "data": {
      "text/plain": [
       "(-0.9989831042023252,\n",
       " 0.3252569396364029,\n",
       " 0    1.05704\n",
       " dtype: float64)"
      ]
     },
     "execution_count": 49,
     "metadata": {},
     "output_type": "execute_result"
    }
   ],
   "source": [
    "racism.skew(), racism.kurt()"
   ]
  },
  {
   "cell_type": "code",
   "execution_count": 50,
   "id": "98b7bd90",
   "metadata": {},
   "outputs": [
    {
     "data": {
      "text/plain": [
       "0    1.05704\n",
       "dtype: float64"
      ]
     },
     "execution_count": 50,
     "metadata": {},
     "output_type": "execute_result"
    }
   ],
   "source": [
    "racism.mode()"
   ]
  },
  {
   "cell_type": "code",
   "execution_count": null,
   "id": "0a6c6968",
   "metadata": {},
   "outputs": [],
   "source": [
    "### Extremism Summary"
   ]
  }
 ],
 "metadata": {
  "kernelspec": {
   "display_name": "Python 3",
   "language": "python",
   "name": "python3"
  },
  "language_info": {
   "codemirror_mode": {
    "name": "ipython",
    "version": 3
   },
   "file_extension": ".py",
   "mimetype": "text/x-python",
   "name": "python",
   "nbconvert_exporter": "python",
   "pygments_lexer": "ipython3",
   "version": "3.8.8"
  }
 },
 "nbformat": 4,
 "nbformat_minor": 5
}
